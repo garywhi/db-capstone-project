{
 "cells": [
  {
   "cell_type": "code",
   "execution_count": null,
   "id": "15db4de0-e301-44cb-9f35-cf7a19b944aa",
   "metadata": {},
   "outputs": [],
   "source": [
    "# install mysql-connector for system if not already installed\n",
    "!pip install mysql-connector-python"
   ]
  },
  {
   "cell_type": "code",
   "execution_count": 23,
   "id": "5eb3eef7-7807-487b-b4c7-0e1e7a6bfdeb",
   "metadata": {},
   "outputs": [],
   "source": [
    "import mysql.connector as connector\n",
    "\n",
    "# connect to database, use your own credentials\n",
    "connection = connector.connect(user=\"root\", password=\"Stingray1\", db=\"littlelemondb\")"
   ]
  },
  {
   "cell_type": "code",
   "execution_count": 24,
   "id": "d8b369c5-8eca-414f-9c53-db4c610f02db",
   "metadata": {},
   "outputs": [],
   "source": [
    "# Create a cursor\n",
    "cursor = connection.cursor()"
   ]
  },
  {
   "cell_type": "code",
   "execution_count": 25,
   "id": "fe225e0b-3536-4258-b40e-1178422d5520",
   "metadata": {},
   "outputs": [
    {
     "name": "stdout",
     "output_type": "stream",
     "text": [
      "Tables in littlelemondb\n",
      "bookings\n",
      "customer\n",
      "deliverystatus\n",
      "menu\n",
      "orders\n",
      "ordersview\n",
      "staff\n"
     ]
    }
   ],
   "source": [
    "# Execute query to show tables\n",
    "show_tables_query = \"SHOW TABLES\"\n",
    "results = cursor.execute(show_tables_query)\n",
    "\n",
    "# retrieve the results\n",
    "dataset = cursor.fetchall()\n",
    "\n",
    "# print table names in database\n",
    "print('Tables in littlelemondb')\n",
    "for row in dataset:\n",
    "    print(row[0])\n",
    "    "
   ]
  },
  {
   "cell_type": "code",
   "execution_count": 36,
   "id": "2bafd151-4850-49a0-b21f-df548a32a92f",
   "metadata": {},
   "outputs": [
    {
     "name": "stdout",
     "output_type": "stream",
     "text": [
      "Customers who have spent more than $60 in an order: \n",
      "\n",
      "Customer:  John Smith\n",
      "Phone number:  1234567\n",
      "Email:  johnsmith@email.com\n",
      "Total Cost: $ 90\n",
      "\n",
      "\n"
     ]
    }
   ],
   "source": [
    "# query to find customers who placed an order greater than $60\n",
    "promotional_query = \"\"\"\n",
    "SELECT c.CustomerName, c.PhoneNumber, c.Email, o.TotalCost\n",
    "    FROM Customer as c\n",
    "    INNER JOIN Bookings as b ON c.CustomerID = b.CustomerID\n",
    "    INNER JOIN Orders as o ON b.BookingID = o.BookingID\n",
    "    WHERE o.TotalCost > 60\n",
    "\"\"\"\n",
    "\n",
    "# executing query and retrieving results\n",
    "cursor.execute(promotional_query)\n",
    "results = cursor.fetchall()\n",
    "\n",
    "# printing customers stored in results\n",
    "#print(cursor.column_names)\n",
    "print('Customers who have spent more than $60 in an order: \\n')\n",
    "for customer in results:\n",
    "    print('Customer: ',customer[0])\n",
    "    print('Phone number: ', customer[1])\n",
    "    print('Email: ', customer[2])\n",
    "    print('Total Cost: $', customer[3])\n",
    "    print('\\n')"
   ]
  },
  {
   "cell_type": "code",
   "execution_count": null,
   "id": "95c486cb-dbd6-4378-93dc-43ba368ba007",
   "metadata": {},
   "outputs": [],
   "source": []
  }
 ],
 "metadata": {
  "kernelspec": {
   "display_name": "Python 3 (ipykernel)",
   "language": "python",
   "name": "python3"
  },
  "language_info": {
   "codemirror_mode": {
    "name": "ipython",
    "version": 3
   },
   "file_extension": ".py",
   "mimetype": "text/x-python",
   "name": "python",
   "nbconvert_exporter": "python",
   "pygments_lexer": "ipython3",
   "version": "3.12.1"
  }
 },
 "nbformat": 4,
 "nbformat_minor": 5
}
